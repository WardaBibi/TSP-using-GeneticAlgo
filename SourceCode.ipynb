{
 "cells": [
  {
   "cell_type": "code",
   "execution_count": 19,
   "id": "5e6ee711",
   "metadata": {},
   "outputs": [],
   "source": [
    "import math\n",
    "import random\n",
    "import copy\n",
    "import matplotlib.pyplot as plt"
   ]
  },
  {
   "cell_type": "code",
   "execution_count": 20,
   "id": "8a699d55",
   "metadata": {},
   "outputs": [],
   "source": [
    "totalPopulation=100\n",
    "totalCities=30\n",
    "totalTour=totalCities+1\n",
    "iteration=50\n",
    "mutationRate=0.1\n",
    "population=[]\n",
    "cities=[]\n",
    "exeCost=None\n",
    "fitnessRecord=[]\n",
    "minIndex=None\n",
    "# shortestPath=None\n",
    "costChanges=[]\n",
    "recordDistance = 99999999999999\n",
    "bestEver=[]\n",
    "currentBest=None"
   ]
  },
  {
   "cell_type": "code",
   "execution_count": 21,
   "id": "1747ec41",
   "metadata": {},
   "outputs": [],
   "source": [
    "tour=[[0 for j in range(totalTour)] for i in range(totalTour)]\n",
    "distanceMatrix=[[0 for j in range(totalCities)] for i in range(totalCities)]\n",
    "#fitness=[0 for j in range(totalPopulation)]\n",
    "ParentA=[]\n",
    "ParentB=[]"
   ]
  },
  {
   "cell_type": "code",
   "execution_count": 22,
   "id": "4474bca4",
   "metadata": {},
   "outputs": [],
   "source": [
    "\n",
    "def generateFirstGeneration():\n",
    "    for _ in range(1,totalPopulation+1):\n",
    "        generateChromosome()\n",
    "    generateVectors()\n",
    "    \n",
    "       "
   ]
  },
  {
   "cell_type": "code",
   "execution_count": 23,
   "id": "444e1521",
   "metadata": {},
   "outputs": [],
   "source": [
    "def generateChromosome():\n",
    "    path=[]\n",
    "    for _ in range(1,totalCities+1):\n",
    "#        print(\"hi\")\n",
    "        randomNo=random.randint(1,totalCities)\n",
    "        while(alreadyExist(path,randomNo)):\n",
    "            randomNo=random.randint(1,totalCities)\n",
    "        path.append(randomNo)\n",
    "  \n",
    "    population.append(path)\n"
   ]
  },
  {
   "cell_type": "code",
   "execution_count": 24,
   "id": "69ab7453",
   "metadata": {},
   "outputs": [],
   "source": [
    "def alreadyExist(path,number):\n",
    "    for i in path:\n",
    "        if i==number:\n",
    "            return True\n",
    "    return False"
   ]
  },
  {
   "cell_type": "code",
   "execution_count": 25,
   "id": "5154572a",
   "metadata": {},
   "outputs": [],
   "source": [
    "def generateVectors():\n",
    "    for i in range(1,totalCities+1):\n",
    "        vector=[0 for x in range(2)]\n",
    "        vector[0]= random.randint(1,1000)\n",
    "        vector[0] = round(vector[0],8)\n",
    "        vector[1]= random.randint(1,1000)\n",
    "        vector[1]= round(vector[1],8)\n",
    "        cities.append(vector)"
   ]
  },
  {
   "cell_type": "code",
   "execution_count": 26,
   "id": "29cf4bda",
   "metadata": {},
   "outputs": [],
   "source": [
    "def completeTour():\n",
    "    global tour\n",
    "    tour=copy.deepcopy(population)\n",
    "    for x in tour:\n",
    "        first=x[0]\n",
    "        x.append(first)"
   ]
  },
  {
   "cell_type": "code",
   "execution_count": 27,
   "id": "e1d0f571",
   "metadata": {},
   "outputs": [],
   "source": [
    "def fitnessFunction():\n",
    "    global distanceMatrix\n",
    "    for i in range(totalCities):\n",
    "        for j in range(totalCities):\n",
    "            distanceMatrix[i][j]=round(math.sqrt(((cities[i][0]-cities[j][0])**2)+((cities[i][1]-cities[j][1])**2)),8)\n"
   ]
  },
  {
   "cell_type": "code",
   "execution_count": 28,
   "id": "e1f30b01",
   "metadata": {},
   "outputs": [],
   "source": [
    "def findShortestPath(fitnessArr):\n",
    "    global recordDistance\n",
    "    global bestEver\n",
    "    currentRecord = 9999999999999999999\n",
    "    for i in range(totalPopulation):\n",
    "        if (fitnessArr[i] < recordDistance):\n",
    "            recordDistance = fitnessArr[i]\n",
    "            bestEver = population[i]\n",
    "        if (fitnessArr[i] < currentRecord):\n",
    "            currentRecord = fitnessArr[i]\n",
    "            currentBest = population[i]"
   ]
  },
  {
   "cell_type": "code",
   "execution_count": 29,
   "id": "d56f6cf4",
   "metadata": {},
   "outputs": [],
   "source": [
    "def CalculateFitness():\n",
    "    global fitnessRecord\n",
    "    global fitness\n",
    "    fitness=[0 for j in range(totalPopulation)]\n",
    "    fitnessRecord=[]\n",
    "    fitnessFunction()\n",
    "#     print(distanceMatrix)\n",
    "    for i in range(totalPopulation):\n",
    "        for j in range(len(population[i])):\n",
    "            first=tour[i][j]\n",
    "            first=first-1\n",
    "            second=tour[i][j+1]\n",
    "            second=second-1\n",
    "            fitness[i] +=distanceMatrix[first][second]\n",
    "        fitnessRecord.append(round(fitness[i],8))\n",
    "        fitness[i] =round (((1.00000000000 / pow(fitness[i], 8) )+ 1.00000000000),8)\n",
    "#         print(\"index \", i, \"fitness\",round(fitness[i],8))\n",
    "    findShortestPath(fitnessRecord)\n",
    "    return fitness"
   ]
  },
  {
   "cell_type": "code",
   "execution_count": 30,
   "id": "daadb2dc",
   "metadata": {},
   "outputs": [],
   "source": [
    "def normalizeFitness(fitness):\n",
    "#     global fitness\n",
    "#     print(\"ffitness\",ffitness)\n",
    "#     print(\"\\nfitness\",fitness)\n",
    "    sum = 0.0;\n",
    "    for i in range(totalPopulation):\n",
    "        sum += fitness[i]\n",
    "#     print(sum)\n",
    "    for j in range(totalPopulation):\n",
    "        fitness[j] = round((fitness[j] / sum),8) \n",
    "    return fitness"
   ]
  },
  {
   "cell_type": "code",
   "execution_count": 31,
   "id": "ef9a4194",
   "metadata": {},
   "outputs": [],
   "source": [
    "def pickOne(fitness):\n",
    "    index = 0\n",
    "    r=round(random.uniform(0, 1),8)\n",
    "#     print(r)\n",
    "    while (r > 0 and index < totalPopulation):\n",
    "#         temp=r\n",
    "        r = r - fitness[index]\n",
    "        index+=1\n",
    "    index-=1\n",
    "#     print(temp)\n",
    "#     print(index)\n",
    "    return population[index]\n",
    "# pickOne()"
   ]
  },
  {
   "cell_type": "code",
   "execution_count": 32,
   "id": "4355aece",
   "metadata": {},
   "outputs": [],
   "source": [
    "def crossOver(ParentA,ParentB):\n",
    "#     newChild=[]\n",
    "    start=random.randint(0,totalCities-1)\n",
    "    if(start==totalCities-1):\n",
    "        end=random.randint(start,totalCities-1)\n",
    "    else:\n",
    "        end=random.randint(start+1,totalCities-1)\n",
    "    newChild=ParentA[start:end+1]\n",
    "    #left = totalCities - len(newChild)\n",
    "    for k in range(totalCities):\n",
    "        city=ParentB[k]\n",
    "        if not city in newChild:\n",
    "            newChild.append(city)\n",
    "    return newChild"
   ]
  },
  {
   "cell_type": "code",
   "execution_count": 33,
   "id": "61b2471c",
   "metadata": {},
   "outputs": [],
   "source": [
    "def swap(child,indexA,indexB):\n",
    "    temp=child[indexA]\n",
    "    child[indexA]=child[indexB]\n",
    "    child[indexB]=temp\n",
    "    return child\n",
    "\n",
    "\n",
    "def mutate(child,mutationRate):\n",
    "    for i in range(totalCities):\n",
    "        z=round(random.uniform(0,1),2)\n",
    "#         print(z)\n",
    "        if z < mutationRate:\n",
    "            indexA = random.randint(0,totalCities-1)\n",
    "            indexB = (indexA+1) % totalCities\n",
    "            child=swap(child,indexA,indexB)\n",
    "    return child"
   ]
  },
  {
   "cell_type": "code",
   "execution_count": 34,
   "id": "e827fc3e",
   "metadata": {},
   "outputs": [],
   "source": [
    "def SelectNextGeneration(fitness):\n",
    "#     print(fitness)\n",
    "    global population\n",
    "#    print(population)\n",
    "    newPopulation=[]\n",
    "    global ParentA\n",
    "    global ParentB\n",
    "    global select\n",
    "# select=round((totalPopulation/2))\n",
    "    for i in range(totalPopulation):\n",
    "#         print(i)\n",
    "        ParentA=pickOne(fitness)\n",
    "        ParentB=pickOne(fitness)\n",
    "#         print(ParentA)\n",
    "#         print(ParentB)\n",
    "        child = crossOver(ParentA, ParentB)\n",
    "#     print(\"childBefore\",child)\n",
    "        child=mutate(child, mutationRate)\n",
    "#     print(\"childAfter\",child)\n",
    "        newPopulation.append(child)\n",
    "    population = newPopulation\n",
    "# print(\"\\n\\n\" ,population)"
   ]
  },
  {
   "cell_type": "code",
   "execution_count": 35,
   "id": "4dc31ad7",
   "metadata": {},
   "outputs": [],
   "source": [
    "generateFirstGeneration()\n",
    "completeTour()"
   ]
  },
  {
   "cell_type": "code",
   "execution_count": 36,
   "id": "93f022d1",
   "metadata": {},
   "outputs": [
    {
     "name": "stdout",
     "output_type": "stream",
     "text": [
      "\n",
      "Population Size 100\n",
      "\n",
      "Number of iterations 50\n",
      "\n",
      "Total cities 30\n",
      "\n",
      "Shortest Path [1, 17, 3, 21, 20, 7, 19, 26, 22, 18, 27, 24, 4, 6, 23, 11, 15, 25, 8, 16, 29, 30, 2, 12, 10, 28, 13, 9, 5, 14]\n",
      "\n",
      "Fitness Value 12077.21394452\n"
     ]
    },
    {
     "data": {
      "image/png": "[encoded data removed]",
      "text/plain": [
       "<Figure size 432x288 with 1 Axes>"
      ]
     },
     "metadata": {
      "needs_background": "light"
     },
     "output_type": "display_data"
    },
    {
     "data": {
      "image/png": "[encoded data removed]",
      "text/plain": [
       "<Figure size 432x288 with 1 Axes>"
      ]
     },
     "metadata": {
      "needs_background": "light"
     },
     "output_type": "display_data"
    }
   ],
   "source": [
    "def main():\n",
    "    global costChanges\n",
    "    global fitness\n",
    "    for i in range(iteration):\n",
    "        fitness=CalculateFitness()\n",
    "        costChanges.append(recordDistance)\n",
    "#         print(fitness)\n",
    "        fitness=normalizeFitness(fitness)\n",
    "#         print(fitness)\n",
    "        SelectNextGeneration(fitness)\n",
    "        completeTour()\n",
    "    fitness=CalculateFitness()\n",
    "    print(\"\\nPopulation Size\",totalPopulation)\n",
    "    print(\"\\nNumber of iterations\",iteration)\n",
    "    print(\"\\nTotal cities\",totalCities)\n",
    "    print(\"\\nShortest Path\",bestEver)\n",
    "    print(\"\\nFitness Value\",recordDistance)\n",
    "   \n",
    "    \n",
    "    \n",
    "    plt.plot(bestEver)\n",
    "    plt.plot(bestEver,'ro')\n",
    "    plt.axis([0,totalCities,0,totalCities])\n",
    "    plt.show()\n",
    "    \n",
    "    plt.plot(costChanges)\n",
    "    plt.show()\n",
    "    \n",
    "main()\n"
   ]
  },
  {
   "cell_type": "code",
   "execution_count": null,
   "id": "c2df54c1",
   "metadata": {},
   "outputs": [],
   "source": []
  },
  {
   "cell_type": "code",
   "execution_count": null,
   "id": "249b3446",
   "metadata": {},
   "outputs": [],
   "source": []
  },
  {
   "cell_type": "code",
   "execution_count": null,
   "id": "df6b7e9b",
   "metadata": {},
   "outputs": [],
   "source": []
  },
  {
   "cell_type": "code",
   "execution_count": null,
   "id": "083f7616",
   "metadata": {},
   "outputs": [],
   "source": []
  },
  {
   "cell_type": "code",
   "execution_count": null,
   "id": "1b027629",
   "metadata": {},
   "outputs": [],
   "source": []
  },
  {
   "cell_type": "code",
   "execution_count": null,
   "id": "6842f685",
   "metadata": {},
   "outputs": [],
   "source": []
  }
 ],
 "metadata": {
  "kernelspec": {
   "display_name": "Python 3 (ipykernel)",
   "language": "python",
   "name": "python3"
  },
  "language_info": {
   "codemirror_mode": {
    "name": "ipython",
    "version": 3
   },
   "file_extension": ".py",
   "mimetype": "text/x-python",
   "name": "python",
   "nbconvert_exporter": "python",
   "pygments_lexer": "ipython3",
   "version": "3.9.7"
  }
 },
 "nbformat": 4,
 "nbformat_minor": 5
}
